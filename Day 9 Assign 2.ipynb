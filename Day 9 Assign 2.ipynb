{
 "cells": [
  {
   "cell_type": "markdown",
   "metadata": {},
   "source": [
    "# Generator"
   ]
  },
  {
   "cell_type": "code",
   "execution_count": 3,
   "metadata": {},
   "outputs": [],
   "source": [
    "def armstrong(num):\n",
    "    for x in range(1,num):\n",
    "        if x>10:\n",
    "            order = len(str(x))\n",
    "            sum = 0\n",
    "\n",
    "            temp = x\n",
    "            while temp > 0:\n",
    "                digit = temp % 10\n",
    "                sum += digit ** order\n",
    "                temp //= 10\n",
    "\n",
    "            if x == sum:\n",
    "                yield print(\"Armstrong Nubmer is : \", x)"
   ]
  },
  {
   "cell_type": "code",
   "execution_count": 4,
   "metadata": {},
   "outputs": [
    {
     "name": "stdout",
     "output_type": "stream",
     "text": [
      "Armstrong Nubmer is :  153\n",
      "Armstrong Nubmer is :  370\n",
      "Armstrong Nubmer is :  371\n",
      "Armstrong Nubmer is :  407\n"
     ]
    }
   ],
   "source": [
    "lst = list(armstrong(1000))"
   ]
  },
  {
   "cell_type": "code",
   "execution_count": null,
   "metadata": {},
   "outputs": [],
   "source": []
  }
 ],
 "metadata": {
  "kernelspec": {
   "display_name": "Python 3",
   "language": "python",
   "name": "python3"
  },
  "language_info": {
   "codemirror_mode": {
    "name": "ipython",
    "version": 3
   },
   "file_extension": ".py",
   "mimetype": "text/x-python",
   "name": "python",
   "nbconvert_exporter": "python",
   "pygments_lexer": "ipython3",
   "version": "3.8.3"
  }
 },
 "nbformat": 4,
 "nbformat_minor": 4
}
